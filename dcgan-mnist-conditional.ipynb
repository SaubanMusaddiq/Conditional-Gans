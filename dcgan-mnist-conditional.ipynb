{
 "cells": [
  {
   "cell_type": "code",
   "execution_count": 39,
   "metadata": {},
   "outputs": [],
   "source": [
    "import os, time\n",
    "import math\n",
    "import numpy as np\n",
    "from torchvision import datasets, transforms\n",
    "import torchvision.transforms as transforms\n",
    "from torchvision.utils import save_image\n",
    "from torch.utils.data import DataLoader\n",
    "from torch.autograd import Variable\n",
    "import torch.nn as nn\n",
    "import torch.nn.functional as F\n",
    "import torch\n",
    "import imageio"
   ]
  },
  {
   "cell_type": "code",
   "execution_count": 22,
   "metadata": {},
   "outputs": [],
   "source": [
    "epochs = 40\n",
    "batch_size = 64\n",
    "latent_dim = 100\n",
    "img_size = 32"
   ]
  },
  {
   "cell_type": "code",
   "execution_count": 3,
   "metadata": {},
   "outputs": [],
   "source": [
    "cuda = True if torch.cuda.is_available() else False"
   ]
  },
  {
   "cell_type": "code",
   "execution_count": 4,
   "metadata": {},
   "outputs": [],
   "source": [
    "if not os.path.isdir('sample_images'):\n",
    "    os.mkdir('sample_images')"
   ]
  },
  {
   "cell_type": "code",
   "execution_count": 5,
   "metadata": {},
   "outputs": [],
   "source": [
    "def weights_init_normal(m):\n",
    "    classname = m.__class__.__name__\n",
    "    if classname.find(\"Conv\") != -1:\n",
    "        torch.nn.init.normal_(m.weight.data, 0.0, 0.02)\n",
    "    elif classname.find(\"BatchNorm2d\") != -1:\n",
    "        torch.nn.init.normal_(m.weight.data, 1.0, 0.02)\n",
    "        torch.nn.init.constant_(m.bias.data, 0.0)"
   ]
  },
  {
   "cell_type": "code",
   "execution_count": 6,
   "metadata": {},
   "outputs": [],
   "source": [
    "class Generator(nn.Module):\n",
    "    # initializers\n",
    "    def __init__(self, d=16):\n",
    "        super(Generator, self).__init__()\n",
    "        self.init_size = img_size // 16\n",
    "        self.rel = nn.LeakyReLU(0.2, inplace=True)\n",
    "        self.l1 = nn.Sequential(nn.Linear(100, 128 * self.init_size ** 2))\n",
    "        self.l2 = nn.Sequential(nn.Linear(10, 128 * self.init_size ** 2))\n",
    "        self.deconv1 = nn.ConvTranspose2d(256, 64, 4, 2, 1)\n",
    "        self.deconv1_bn = nn.BatchNorm2d(64)\n",
    "        self.deconv2 = nn.ConvTranspose2d(64, 32, 4, 2, 1)\n",
    "        self.deconv2_bn = nn.BatchNorm2d(32)\n",
    "        self.deconv3 = nn.ConvTranspose2d(32, 16, 4, 2, 1)\n",
    "        self.deconv3_bn = nn.BatchNorm2d(16)\n",
    "        self.deconv4 = nn.ConvTranspose2d(16, 1, 4, 2, 1)\n",
    "\n",
    "    # weight_init\n",
    "    def weight_init(self, mean, std):\n",
    "        for m in self._modules:\n",
    "            normal_init(self._modules[m], mean, std)\n",
    "\n",
    "    # forward method\n",
    "    def forward(self, input, label):\n",
    "#         print(input.shape)    \n",
    "#         print(label.shape)\n",
    "        x = self.l1(input)\n",
    "        y = self.l2(label)\n",
    "#         print(1)\n",
    "#         print(x.shape)\n",
    "#         print(y.shape)\n",
    "        x = torch.cat([x, y], 1)\n",
    "#         print(x.shape)\n",
    "        x = x.view(x.shape[0], 256, self.init_size, self.init_size)\n",
    "#         print(x.shape)\n",
    "        x = self.rel(self.deconv1_bn(self.deconv1(x)))\n",
    "#         print(x.shape)\n",
    "        x = self.rel(self.deconv2_bn(self.deconv2(x)))\n",
    "#         print(x.shape)\n",
    "        x = self.rel(self.deconv3_bn(self.deconv3(x)))\n",
    "#         print(x.shape)\n",
    "        x = F.tanh(self.deconv4(x))\n",
    "\n",
    "        return x"
   ]
  },
  {
   "cell_type": "code",
   "execution_count": 7,
   "metadata": {},
   "outputs": [],
   "source": [
    "class Discriminator(nn.Module):\n",
    "    def __init__(self):\n",
    "        super(Discriminator, self).__init__()\n",
    "\n",
    "        def discriminator_block(in_filters, out_filters, bn=True):\n",
    "            block = [nn.Conv2d(in_filters, out_filters, 3, 2, 1), nn.LeakyReLU(0.2, inplace=True), nn.Dropout2d(0.25)]\n",
    "            if bn:\n",
    "                block.append(nn.BatchNorm2d(out_filters, 0.8))\n",
    "            return block\n",
    "        self.labelEmbedding = nn.Sequential(nn.Linear(10, 1 * img_size ** 2))\n",
    "        self.convs = nn.Sequential(\n",
    "            *discriminator_block(2, 16, bn=False),\n",
    "            *discriminator_block(16, 32),\n",
    "            *discriminator_block(32, 64),\n",
    "            *discriminator_block(64, 128),\n",
    "        )\n",
    "\n",
    "        ds_size = img_size // 2 ** 4\n",
    "        self.fc_layer = nn.Sequential(nn.Linear(128 * ds_size ** 2, 1), nn.Sigmoid())\n",
    "\n",
    "    def forward(self, img, y):\n",
    "        y = self.labelEmbedding(y)\n",
    "        y = y.view(-1,1,img_size,img_size)\n",
    "        x = torch.cat([img, y], 1)\n",
    "        x = self.convs(x)\n",
    "        x = x.view(x.shape[0], -1)\n",
    "        x = self.fc_layer(x)\n",
    "\n",
    "        return x"
   ]
  },
  {
   "cell_type": "code",
   "execution_count": 8,
   "metadata": {},
   "outputs": [],
   "source": [
    "adversarial_loss = torch.nn.BCELoss()\n",
    "\n",
    "generator = Generator()\n",
    "discriminator = Discriminator()"
   ]
  },
  {
   "cell_type": "code",
   "execution_count": 9,
   "metadata": {},
   "outputs": [
    {
     "data": {
      "text/plain": [
       "Generator(\n",
       "  (rel): LeakyReLU(negative_slope=0.2, inplace=True)\n",
       "  (l1): Sequential(\n",
       "    (0): Linear(in_features=100, out_features=512, bias=True)\n",
       "  )\n",
       "  (l2): Sequential(\n",
       "    (0): Linear(in_features=10, out_features=512, bias=True)\n",
       "  )\n",
       "  (deconv1): ConvTranspose2d(256, 64, kernel_size=(4, 4), stride=(2, 2), padding=(1, 1))\n",
       "  (deconv1_bn): BatchNorm2d(64, eps=1e-05, momentum=0.1, affine=True, track_running_stats=True)\n",
       "  (deconv2): ConvTranspose2d(64, 32, kernel_size=(4, 4), stride=(2, 2), padding=(1, 1))\n",
       "  (deconv2_bn): BatchNorm2d(32, eps=1e-05, momentum=0.1, affine=True, track_running_stats=True)\n",
       "  (deconv3): ConvTranspose2d(32, 16, kernel_size=(4, 4), stride=(2, 2), padding=(1, 1))\n",
       "  (deconv3_bn): BatchNorm2d(16, eps=1e-05, momentum=0.1, affine=True, track_running_stats=True)\n",
       "  (deconv4): ConvTranspose2d(16, 1, kernel_size=(4, 4), stride=(2, 2), padding=(1, 1))\n",
       ")"
      ]
     },
     "execution_count": 9,
     "metadata": {},
     "output_type": "execute_result"
    }
   ],
   "source": [
    "generator"
   ]
  },
  {
   "cell_type": "code",
   "execution_count": 10,
   "metadata": {},
   "outputs": [],
   "source": [
    "if cuda:\n",
    "    generator.cuda()\n",
    "    discriminator.cuda()\n",
    "    adversarial_loss.cuda()"
   ]
  },
  {
   "cell_type": "code",
   "execution_count": 11,
   "metadata": {},
   "outputs": [
    {
     "data": {
      "text/plain": [
       "Discriminator(\n",
       "  (labelEmbedding): Sequential(\n",
       "    (0): Linear(in_features=10, out_features=1024, bias=True)\n",
       "  )\n",
       "  (convs): Sequential(\n",
       "    (0): Conv2d(2, 16, kernel_size=(3, 3), stride=(2, 2), padding=(1, 1))\n",
       "    (1): LeakyReLU(negative_slope=0.2, inplace=True)\n",
       "    (2): Dropout2d(p=0.25, inplace=False)\n",
       "    (3): Conv2d(16, 32, kernel_size=(3, 3), stride=(2, 2), padding=(1, 1))\n",
       "    (4): LeakyReLU(negative_slope=0.2, inplace=True)\n",
       "    (5): Dropout2d(p=0.25, inplace=False)\n",
       "    (6): BatchNorm2d(32, eps=0.8, momentum=0.1, affine=True, track_running_stats=True)\n",
       "    (7): Conv2d(32, 64, kernel_size=(3, 3), stride=(2, 2), padding=(1, 1))\n",
       "    (8): LeakyReLU(negative_slope=0.2, inplace=True)\n",
       "    (9): Dropout2d(p=0.25, inplace=False)\n",
       "    (10): BatchNorm2d(64, eps=0.8, momentum=0.1, affine=True, track_running_stats=True)\n",
       "    (11): Conv2d(64, 128, kernel_size=(3, 3), stride=(2, 2), padding=(1, 1))\n",
       "    (12): LeakyReLU(negative_slope=0.2, inplace=True)\n",
       "    (13): Dropout2d(p=0.25, inplace=False)\n",
       "    (14): BatchNorm2d(128, eps=0.8, momentum=0.1, affine=True, track_running_stats=True)\n",
       "  )\n",
       "  (fc_layer): Sequential(\n",
       "    (0): Linear(in_features=512, out_features=1, bias=True)\n",
       "    (1): Sigmoid()\n",
       "  )\n",
       ")"
      ]
     },
     "execution_count": 11,
     "metadata": {},
     "output_type": "execute_result"
    }
   ],
   "source": [
    "# Initialize weights\n",
    "generator.apply(weights_init_normal)\n",
    "discriminator.apply(weights_init_normal)"
   ]
  },
  {
   "cell_type": "code",
   "execution_count": 12,
   "metadata": {},
   "outputs": [
    {
     "name": "stderr",
     "output_type": "stream",
     "text": [
      "/home/sauban/.local/lib/python3.6/site-packages/torchvision/transforms/transforms.py:220: UserWarning: The use of the transforms.Scale transform is deprecated, please use transforms.Resize instead.\n",
      "  \"please use transforms.Resize instead.\")\n"
     ]
    }
   ],
   "source": [
    "transform = transforms.Compose([\n",
    "        transforms.Scale(img_size),\n",
    "        transforms.ToTensor(),\n",
    "        transforms.Normalize([0.5], [0.5])\n",
    "])"
   ]
  },
  {
   "cell_type": "code",
   "execution_count": 13,
   "metadata": {},
   "outputs": [],
   "source": [
    "dataloader = torch.utils.data.DataLoader(\n",
    "    datasets.MNIST('data2', train=True, download=True, transform=transform),\n",
    "    batch_size=batch_size, shuffle=True)"
   ]
  },
  {
   "cell_type": "code",
   "execution_count": 14,
   "metadata": {},
   "outputs": [],
   "source": [
    "optimizer_G = torch.optim.Adam(generator.parameters(), lr=0.0002, betas=(0.5, 0.999))\n",
    "optimizer_D = torch.optim.Adam(discriminator.parameters(), lr=0.0002, betas=(0.5, 0.999))"
   ]
  },
  {
   "cell_type": "code",
   "execution_count": 15,
   "metadata": {},
   "outputs": [],
   "source": [
    "Tensor = torch.cuda.FloatTensor if cuda else torch.FloatTensor\n",
    "LongTensor = torch.cuda.LongTensor if cuda else torch.LongTensor"
   ]
  },
  {
   "cell_type": "code",
   "execution_count": 16,
   "metadata": {},
   "outputs": [],
   "source": [
    "onehot = torch.zeros(10, 10)\n",
    "onehot = onehot.scatter_(1, torch.LongTensor([0, 1, 2, 3, 4, 5, 6, 7, 8, 9]).view(10,1), 1)\n",
    "onehot = onehot.type(Tensor)"
   ]
  },
  {
   "cell_type": "code",
   "execution_count": 21,
   "metadata": {},
   "outputs": [
    {
     "name": "stdout",
     "output_type": "stream",
     "text": [
      "training start!\n",
      "[Epoch 25/25] [Batch 0/938] [D loss: 1.226499] [G loss: 0.724756]\n",
      "[Epoch 25/25] [Batch 100/938] [D loss: 0.827235] [G loss: 0.707638]\n",
      "[Epoch 25/25] [Batch 200/938] [D loss: 0.355862] [G loss: 1.143382]\n",
      "[Epoch 25/25] [Batch 300/938] [D loss: 0.431595] [G loss: 1.259524]\n",
      "[Epoch 25/25] [Batch 400/938] [D loss: 0.634259] [G loss: 2.269360]\n",
      "[Epoch 25/25] [Batch 500/938] [D loss: 0.740775] [G loss: 0.550346]\n",
      "[Epoch 25/25] [Batch 600/938] [D loss: 0.372431] [G loss: 1.687199]\n",
      "[Epoch 25/25] [Batch 700/938] [D loss: 0.482320] [G loss: 0.863101]\n",
      "[Epoch 25/25] [Batch 800/938] [D loss: 0.317193] [G loss: 1.543224]\n",
      "[Epoch 25/25] [Batch 900/938] [D loss: 0.426105] [G loss: 1.552991]\n",
      "[Epoch 26/25] [Batch 0/938] [D loss: 1.000316] [G loss: 0.397031]\n",
      "[Epoch 26/25] [Batch 100/938] [D loss: 0.561157] [G loss: 0.790992]\n",
      "[Epoch 26/25] [Batch 200/938] [D loss: 0.329087] [G loss: 1.625762]\n",
      "[Epoch 26/25] [Batch 300/938] [D loss: 0.682595] [G loss: 0.668594]\n",
      "[Epoch 26/25] [Batch 400/938] [D loss: 0.366499] [G loss: 0.834968]\n",
      "[Epoch 26/25] [Batch 500/938] [D loss: 0.432983] [G loss: 0.546729]\n",
      "[Epoch 26/25] [Batch 600/938] [D loss: 1.176971] [G loss: 0.664555]\n",
      "[Epoch 26/25] [Batch 700/938] [D loss: 0.536817] [G loss: 1.226608]\n",
      "[Epoch 26/25] [Batch 800/938] [D loss: 0.255030] [G loss: 0.994021]\n",
      "[Epoch 26/25] [Batch 900/938] [D loss: 0.588358] [G loss: 1.441806]\n",
      "[Epoch 27/25] [Batch 0/938] [D loss: 0.670582] [G loss: 1.265966]\n",
      "[Epoch 27/25] [Batch 100/938] [D loss: 0.346501] [G loss: 2.372972]\n",
      "[Epoch 27/25] [Batch 200/938] [D loss: 0.248241] [G loss: 1.280256]\n",
      "[Epoch 27/25] [Batch 300/938] [D loss: 0.931054] [G loss: 0.789912]\n",
      "[Epoch 27/25] [Batch 400/938] [D loss: 0.490965] [G loss: 1.340312]\n",
      "[Epoch 27/25] [Batch 500/938] [D loss: 0.563478] [G loss: 1.001440]\n",
      "[Epoch 27/25] [Batch 600/938] [D loss: 0.520692] [G loss: 0.987339]\n",
      "[Epoch 27/25] [Batch 700/938] [D loss: 0.576424] [G loss: 1.604088]\n",
      "[Epoch 27/25] [Batch 800/938] [D loss: 0.579391] [G loss: 0.638565]\n",
      "[Epoch 27/25] [Batch 900/938] [D loss: 0.728657] [G loss: 1.140966]\n",
      "[Epoch 28/25] [Batch 0/938] [D loss: 0.457641] [G loss: 0.668221]\n",
      "[Epoch 28/25] [Batch 100/938] [D loss: 0.420946] [G loss: 1.044949]\n",
      "[Epoch 28/25] [Batch 200/938] [D loss: 0.867676] [G loss: 0.732192]\n",
      "[Epoch 28/25] [Batch 300/938] [D loss: 0.544383] [G loss: 0.759081]\n",
      "[Epoch 28/25] [Batch 400/938] [D loss: 0.551856] [G loss: 1.128943]\n",
      "[Epoch 28/25] [Batch 500/938] [D loss: 0.357786] [G loss: 1.828842]\n",
      "[Epoch 28/25] [Batch 600/938] [D loss: 0.654016] [G loss: 0.860815]\n",
      "[Epoch 28/25] [Batch 700/938] [D loss: 0.678668] [G loss: 1.093954]\n",
      "[Epoch 28/25] [Batch 800/938] [D loss: 1.030153] [G loss: 0.477504]\n",
      "[Epoch 28/25] [Batch 900/938] [D loss: 0.368576] [G loss: 0.635857]\n",
      "[Epoch 29/25] [Batch 0/938] [D loss: 0.628209] [G loss: 0.600833]\n",
      "[Epoch 29/25] [Batch 100/938] [D loss: 0.723806] [G loss: 0.579048]\n",
      "[Epoch 29/25] [Batch 200/938] [D loss: 0.755653] [G loss: 0.897400]\n",
      "[Epoch 29/25] [Batch 300/938] [D loss: 0.601670] [G loss: 1.228119]\n",
      "[Epoch 29/25] [Batch 400/938] [D loss: 0.572857] [G loss: 0.797434]\n",
      "[Epoch 29/25] [Batch 500/938] [D loss: 0.436975] [G loss: 0.881903]\n",
      "[Epoch 29/25] [Batch 600/938] [D loss: 0.466281] [G loss: 0.800189]\n",
      "[Epoch 29/25] [Batch 700/938] [D loss: 0.915032] [G loss: 0.722116]\n",
      "[Epoch 29/25] [Batch 800/938] [D loss: 0.368997] [G loss: 0.565995]\n",
      "[Epoch 29/25] [Batch 900/938] [D loss: 0.487555] [G loss: 1.468121]\n",
      "[Epoch 30/25] [Batch 0/938] [D loss: 0.393056] [G loss: 1.096693]\n",
      "[Epoch 30/25] [Batch 100/938] [D loss: 0.354889] [G loss: 1.504412]\n",
      "[Epoch 30/25] [Batch 200/938] [D loss: 0.697158] [G loss: 1.075860]\n",
      "[Epoch 30/25] [Batch 300/938] [D loss: 0.435474] [G loss: 1.012553]\n",
      "[Epoch 30/25] [Batch 400/938] [D loss: 0.297069] [G loss: 0.458416]\n",
      "[Epoch 30/25] [Batch 500/938] [D loss: 0.196582] [G loss: 1.276269]\n",
      "[Epoch 30/25] [Batch 600/938] [D loss: 0.656811] [G loss: 1.612873]\n",
      "[Epoch 30/25] [Batch 700/938] [D loss: 0.602029] [G loss: 1.121024]\n",
      "[Epoch 30/25] [Batch 800/938] [D loss: 0.678013] [G loss: 1.229813]\n",
      "[Epoch 30/25] [Batch 900/938] [D loss: 0.369246] [G loss: 1.412283]\n",
      "[Epoch 31/25] [Batch 0/938] [D loss: 0.398625] [G loss: 1.045588]\n",
      "[Epoch 31/25] [Batch 100/938] [D loss: 0.629885] [G loss: 0.541408]\n",
      "[Epoch 31/25] [Batch 200/938] [D loss: 0.666112] [G loss: 0.854060]\n",
      "[Epoch 31/25] [Batch 300/938] [D loss: 0.376510] [G loss: 1.767182]\n",
      "[Epoch 31/25] [Batch 400/938] [D loss: 0.754948] [G loss: 0.326820]\n",
      "[Epoch 31/25] [Batch 500/938] [D loss: 0.290380] [G loss: 2.048755]\n",
      "[Epoch 31/25] [Batch 600/938] [D loss: 0.543880] [G loss: 1.004251]\n",
      "[Epoch 31/25] [Batch 700/938] [D loss: 0.630266] [G loss: 0.906015]\n",
      "[Epoch 31/25] [Batch 800/938] [D loss: 0.436843] [G loss: 1.540712]\n",
      "[Epoch 31/25] [Batch 900/938] [D loss: 0.481061] [G loss: 1.176767]\n",
      "[Epoch 32/25] [Batch 0/938] [D loss: 0.546726] [G loss: 1.500319]\n",
      "[Epoch 32/25] [Batch 100/938] [D loss: 0.478453] [G loss: 1.130179]\n",
      "[Epoch 32/25] [Batch 200/938] [D loss: 0.811651] [G loss: 1.805120]\n",
      "[Epoch 32/25] [Batch 300/938] [D loss: 0.766994] [G loss: 0.958473]\n",
      "[Epoch 32/25] [Batch 400/938] [D loss: 1.019380] [G loss: 1.051491]\n",
      "[Epoch 32/25] [Batch 500/938] [D loss: 0.690720] [G loss: 1.665850]\n",
      "[Epoch 32/25] [Batch 600/938] [D loss: 0.998583] [G loss: 0.828498]\n",
      "[Epoch 32/25] [Batch 700/938] [D loss: 0.269197] [G loss: 1.851520]\n",
      "[Epoch 32/25] [Batch 800/938] [D loss: 0.734313] [G loss: 0.573071]\n",
      "[Epoch 32/25] [Batch 900/938] [D loss: 0.477623] [G loss: 1.261764]\n",
      "[Epoch 33/25] [Batch 0/938] [D loss: 0.465635] [G loss: 1.705280]\n",
      "[Epoch 33/25] [Batch 100/938] [D loss: 0.756986] [G loss: 0.246552]\n",
      "[Epoch 33/25] [Batch 200/938] [D loss: 0.455291] [G loss: 0.767386]\n",
      "[Epoch 33/25] [Batch 300/938] [D loss: 0.550328] [G loss: 1.202930]\n",
      "[Epoch 33/25] [Batch 400/938] [D loss: 1.007808] [G loss: 0.903134]\n",
      "[Epoch 33/25] [Batch 500/938] [D loss: 0.436376] [G loss: 0.920010]\n",
      "[Epoch 33/25] [Batch 600/938] [D loss: 0.197581] [G loss: 1.471081]\n",
      "[Epoch 33/25] [Batch 700/938] [D loss: 0.320288] [G loss: 1.048442]\n",
      "[Epoch 33/25] [Batch 800/938] [D loss: 0.415789] [G loss: 1.191953]\n",
      "[Epoch 33/25] [Batch 900/938] [D loss: 0.425658] [G loss: 0.886312]\n",
      "[Epoch 34/25] [Batch 0/938] [D loss: 1.049863] [G loss: 0.590937]\n",
      "[Epoch 34/25] [Batch 100/938] [D loss: 0.311387] [G loss: 2.328301]\n",
      "[Epoch 34/25] [Batch 200/938] [D loss: 0.595157] [G loss: 0.714102]\n",
      "[Epoch 34/25] [Batch 300/938] [D loss: 0.561657] [G loss: 1.074457]\n",
      "[Epoch 34/25] [Batch 400/938] [D loss: 0.458086] [G loss: 1.065987]\n",
      "[Epoch 34/25] [Batch 500/938] [D loss: 0.435757] [G loss: 1.058302]\n",
      "[Epoch 34/25] [Batch 600/938] [D loss: 0.826803] [G loss: 0.679691]\n",
      "[Epoch 34/25] [Batch 700/938] [D loss: 0.417320] [G loss: 1.664652]\n",
      "[Epoch 34/25] [Batch 800/938] [D loss: 0.387607] [G loss: 1.740906]\n",
      "[Epoch 34/25] [Batch 900/938] [D loss: 0.448872] [G loss: 1.359214]\n",
      "[Epoch 35/25] [Batch 0/938] [D loss: 0.541514] [G loss: 0.600888]\n",
      "[Epoch 35/25] [Batch 100/938] [D loss: 0.305478] [G loss: 0.981705]\n",
      "[Epoch 35/25] [Batch 200/938] [D loss: 0.486634] [G loss: 0.830800]\n",
      "[Epoch 35/25] [Batch 300/938] [D loss: 0.572874] [G loss: 1.084197]\n",
      "[Epoch 35/25] [Batch 400/938] [D loss: 0.304425] [G loss: 2.423537]\n",
      "[Epoch 35/25] [Batch 500/938] [D loss: 0.806949] [G loss: 0.554270]\n",
      "[Epoch 35/25] [Batch 600/938] [D loss: 0.305112] [G loss: 1.025879]\n",
      "[Epoch 35/25] [Batch 700/938] [D loss: 0.836424] [G loss: 0.458988]\n",
      "[Epoch 35/25] [Batch 800/938] [D loss: 0.419084] [G loss: 1.448289]\n",
      "[Epoch 35/25] [Batch 900/938] [D loss: 0.285771] [G loss: 1.994168]\n",
      "[Epoch 36/25] [Batch 0/938] [D loss: 1.424101] [G loss: 0.602830]\n",
      "[Epoch 36/25] [Batch 100/938] [D loss: 0.521869] [G loss: 0.356179]\n",
      "[Epoch 36/25] [Batch 200/938] [D loss: 0.232094] [G loss: 2.104712]\n",
      "[Epoch 36/25] [Batch 300/938] [D loss: 0.294449] [G loss: 1.700650]\n",
      "[Epoch 36/25] [Batch 400/938] [D loss: 0.648756] [G loss: 0.824855]\n",
      "[Epoch 36/25] [Batch 500/938] [D loss: 0.577996] [G loss: 2.156438]\n",
      "[Epoch 36/25] [Batch 600/938] [D loss: 0.188659] [G loss: 2.161514]\n",
      "[Epoch 36/25] [Batch 700/938] [D loss: 0.167197] [G loss: 1.444453]\n",
      "[Epoch 36/25] [Batch 800/938] [D loss: 0.366619] [G loss: 0.925331]\n",
      "[Epoch 36/25] [Batch 900/938] [D loss: 0.306760] [G loss: 1.252835]\n",
      "[Epoch 37/25] [Batch 0/938] [D loss: 0.173110] [G loss: 1.541081]\n"
     ]
    },
    {
     "name": "stdout",
     "output_type": "stream",
     "text": [
      "[Epoch 37/25] [Batch 100/938] [D loss: 0.169604] [G loss: 2.122488]\n",
      "[Epoch 37/25] [Batch 200/938] [D loss: 0.566076] [G loss: 0.862142]\n",
      "[Epoch 37/25] [Batch 300/938] [D loss: 0.609899] [G loss: 1.634124]\n",
      "[Epoch 37/25] [Batch 400/938] [D loss: 0.718627] [G loss: 1.703405]\n",
      "[Epoch 37/25] [Batch 500/938] [D loss: 0.415031] [G loss: 1.592204]\n",
      "[Epoch 37/25] [Batch 600/938] [D loss: 0.487128] [G loss: 0.788502]\n",
      "[Epoch 37/25] [Batch 700/938] [D loss: 0.500501] [G loss: 1.782671]\n",
      "[Epoch 37/25] [Batch 800/938] [D loss: 0.989977] [G loss: 0.665001]\n",
      "[Epoch 37/25] [Batch 900/938] [D loss: 0.138343] [G loss: 1.634908]\n",
      "[Epoch 38/25] [Batch 0/938] [D loss: 0.076712] [G loss: 2.348859]\n",
      "[Epoch 38/25] [Batch 100/938] [D loss: 0.338832] [G loss: 1.857654]\n",
      "[Epoch 38/25] [Batch 200/938] [D loss: 0.234265] [G loss: 2.251939]\n",
      "[Epoch 38/25] [Batch 300/938] [D loss: 0.365869] [G loss: 1.601662]\n",
      "[Epoch 38/25] [Batch 400/938] [D loss: 0.124288] [G loss: 1.291325]\n",
      "[Epoch 38/25] [Batch 500/938] [D loss: 0.261913] [G loss: 1.214251]\n",
      "[Epoch 38/25] [Batch 600/938] [D loss: 1.037571] [G loss: 1.803946]\n",
      "[Epoch 38/25] [Batch 700/938] [D loss: 0.203397] [G loss: 2.558471]\n",
      "[Epoch 38/25] [Batch 800/938] [D loss: 0.396175] [G loss: 1.105298]\n",
      "[Epoch 38/25] [Batch 900/938] [D loss: 0.308036] [G loss: 1.746868]\n",
      "[Epoch 39/25] [Batch 0/938] [D loss: 0.370597] [G loss: 1.382802]\n",
      "[Epoch 39/25] [Batch 100/938] [D loss: 0.456159] [G loss: 0.699048]\n",
      "[Epoch 39/25] [Batch 200/938] [D loss: 0.634559] [G loss: 1.156252]\n",
      "[Epoch 39/25] [Batch 300/938] [D loss: 0.549452] [G loss: 0.627266]\n",
      "[Epoch 39/25] [Batch 400/938] [D loss: 0.457593] [G loss: 0.551558]\n",
      "[Epoch 39/25] [Batch 500/938] [D loss: 0.777292] [G loss: 1.261513]\n",
      "[Epoch 39/25] [Batch 600/938] [D loss: 0.658792] [G loss: 1.167380]\n",
      "[Epoch 39/25] [Batch 700/938] [D loss: 0.494302] [G loss: 0.584721]\n",
      "[Epoch 39/25] [Batch 800/938] [D loss: 0.429541] [G loss: 0.591871]\n",
      "[Epoch 39/25] [Batch 900/938] [D loss: 0.424192] [G loss: 1.198615]\n"
     ]
    },
    {
     "data": {
      "text/plain": [
       "329.90707516670227"
      ]
     },
     "execution_count": 21,
     "metadata": {},
     "output_type": "execute_result"
    }
   ],
   "source": [
    "print('training start!')\n",
    "start_time = time.time()\n",
    "for epoch in range(25,40):\n",
    "    for i, (imgs, y) in enumerate(dataloader):\n",
    "\n",
    "        # Adversarial ground truths\n",
    "        valid = Variable(Tensor(imgs.shape[0], 1).fill_(1.0), requires_grad=False)\n",
    "        fake = Variable(Tensor(imgs.shape[0], 1).fill_(0.0), requires_grad=False)\n",
    "\n",
    "        # Configure input\n",
    "        real_imgs = Variable(imgs.type(Tensor))\n",
    "        #  Train Generator\n",
    "        \n",
    "        optimizer_G.zero_grad()\n",
    "\n",
    "        # Sample noise as generator input\n",
    "        z = Variable(Tensor(np.random.normal(0, 1, (imgs.shape[0], latent_dim))))\n",
    "        gen_labels = onehot[Variable(LongTensor(np.random.randint(0, 10, imgs.shape[0])))]\n",
    "        # Generate a batch of images\n",
    "        gen_imgs = generator(z,gen_labels)\n",
    "        # Loss measures generator's ability to fool the discriminator\n",
    "        g_loss = adversarial_loss(discriminator(gen_imgs,gen_labels), valid)\n",
    "\n",
    "        g_loss.backward()\n",
    "        optimizer_G.step()\n",
    "\n",
    "        \n",
    "        #  Train Discriminator\n",
    "        optimizer_D.zero_grad()\n",
    "\n",
    "        real_loss = adversarial_loss(discriminator(real_imgs, onehot[y]), valid)\n",
    "        fake_loss = adversarial_loss(discriminator(gen_imgs.detach(),gen_labels), fake)\n",
    "        d_loss = (real_loss + fake_loss) / 2\n",
    "\n",
    "        d_loss.backward()\n",
    "        optimizer_D.step()\n",
    "        \n",
    "        if i % 100 == 0:\n",
    "            print(\n",
    "                \"[Epoch %d/%d] [Batch %d/%d] [D loss: %f] [G loss: %f]\"\n",
    "                % (epoch, epochs, i, len(dataloader), d_loss.item(), g_loss.item())\n",
    "            )\n",
    "\n",
    "        batches_done = epoch * len(dataloader) + i\n",
    "    save_image(gen_imgs.data[:25], \"sample_images/%d.png\" % epoch, nrow=5, normalize=True)\n",
    "end_time = time.time()\n",
    "total_time = end_time - start_time\n",
    "total_time"
   ]
  },
  {
   "cell_type": "code",
   "execution_count": 20,
   "metadata": {},
   "outputs": [
    {
     "data": {
      "text/plain": [
       "tensor([3, 3, 4, 9, 6, 4, 7, 3, 1, 7, 2, 8, 7, 3, 3, 2, 2, 7, 9, 9, 1, 8, 7, 2,\n",
       "        9, 8, 2, 4, 4, 6, 7, 3], device='cuda:0')"
      ]
     },
     "execution_count": 20,
     "metadata": {},
     "output_type": "execute_result"
    }
   ],
   "source": [
    "gen_labels.argmax(1)"
   ]
  },
  {
   "cell_type": "code",
   "execution_count": 23,
   "metadata": {},
   "outputs": [],
   "source": [
    "images = []\n",
    "for epoch in range(epochs):\n",
    "    img_name = 'sample_images/' + str(epoch) + '.png'\n",
    "    images.append(imageio.imread(img_name))\n",
    "imageio.mimsave('sample_images/animation.gif', images, fps=3)"
   ]
  },
  {
   "cell_type": "code",
   "execution_count": 45,
   "metadata": {},
   "outputs": [],
   "source": [
    "from PIL import Image\n"
   ]
  },
  {
   "cell_type": "code",
   "execution_count": 41,
   "metadata": {},
   "outputs": [
    {
     "name": "stderr",
     "output_type": "stream",
     "text": [
      "/home/sauban/.local/lib/python3.6/site-packages/torch/nn/functional.py:1340: UserWarning: nn.functional.tanh is deprecated. Use torch.tanh instead.\n",
      "  warnings.warn(\"nn.functional.tanh is deprecated. Use torch.tanh instead.\")\n"
     ]
    }
   ],
   "source": [
    "z = Variable(Tensor(np.random.normal(0, 1, (25, latent_dim))))\n",
    "gen_labels = onehot[Variable(LongTensor(np.random.randint(0, 10, 25)))]\n",
    "gen_imgs = generator(z,gen_labels)"
   ]
  },
  {
   "cell_type": "code",
   "execution_count": 42,
   "metadata": {},
   "outputs": [],
   "source": [
    "save_image(gen_imgs.data[:25], \"sample_images/final.png\", nrow=5, normalize=True)\n"
   ]
  },
  {
   "cell_type": "code",
   "execution_count": 48,
   "metadata": {},
   "outputs": [
    {
     "name": "stdout",
     "output_type": "stream",
     "text": [
      "tensor([8, 1, 0, 4, 3, 5, 6, 4, 5, 1, 1, 1, 5, 2, 3, 8, 1, 0, 0, 3, 2, 2, 4, 1,\n",
      "        2], device='cuda:0')\n"
     ]
    },
    {
     "data": {
      "image/png": "[encoded data removed]",
      "text/plain": [
       "<PIL.PngImagePlugin.PngImageFile image mode=RGB size=172x172 at 0x7FA4B09647B8>"
      ]
     },
     "execution_count": 48,
     "metadata": {},
     "output_type": "execute_result"
    }
   ],
   "source": [
    "print(gen_labels.argmax(1))\n",
    "Image.open(\"sample_images/final.png\")"
   ]
  },
  {
   "cell_type": "code",
   "execution_count": null,
   "metadata": {},
   "outputs": [],
   "source": []
  }
 ],
 "metadata": {
  "kernelspec": {
   "display_name": "Python 3",
   "language": "python",
   "name": "python3"
  },
  "language_info": {
   "codemirror_mode": {
    "name": "ipython",
    "version": 3
   },
   "file_extension": ".py",
   "mimetype": "text/x-python",
   "name": "python",
   "nbconvert_exporter": "python",
   "pygments_lexer": "ipython3",
   "version": "3.6.9"
  }
 },
 "nbformat": 4,
 "nbformat_minor": 2
}
